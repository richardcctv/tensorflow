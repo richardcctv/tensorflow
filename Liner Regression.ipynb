{
 "cells": [
  {
   "cell_type": "code",
   "execution_count": 2,
   "metadata": {},
   "outputs": [],
   "source": [
    "import tensorflow as tf \n",
    "import numpy as np\n",
    "import matplotlib.pyplot as plt"
   ]
  },
  {
   "cell_type": "code",
   "execution_count": 11,
   "metadata": {},
   "outputs": [],
   "source": [
    "#准备数据\n",
    "def get_data():\n",
    "\tX = np.asarray([3.3,4.4,5.5,6.71,6.93,4.168,9.779,6.182,7.59,2.167,\n",
    "                         7.042,10.791,5.313,7.997,5.654,9.27,3.1])\n",
    "\tY = np.asarray([1.7,2.76,2.09,3.19,1.694,1.573,3.366,2.596,2.53,1.221,\n",
    "                         2.827,3.465,1.65,2.904,2.42,2.94,1.3])\n",
    "\treturn X,Y"
   ]
  },
  {
   "cell_type": "code",
   "execution_count": 12,
   "metadata": {},
   "outputs": [],
   "source": [
    "#占位符\n",
    "def get_placeholder():\n",
    "\tx_placeholder = tf.placeholder(tf.float32)\n",
    "\ty_placeholder = tf.placeholder(tf.float32)\n",
    "\treturn x_placeholder,y_placeholder"
   ]
  },
  {
   "cell_type": "code",
   "execution_count": 13,
   "metadata": {},
   "outputs": [],
   "source": [
    "#获得权重和偏置，这里因为是单个特征的线性规划，权重也是一维的\n",
    "def get_weights():\n",
    "\treturn tf.Variable(tf.truncated_normal([1],stddev=0.1),name=\"weights\")\n",
    "\n",
    "def get_bias():\n",
    "\treturn tf.Variable(tf.zeros(shape=[1]),name = 'bias')"
   ]
  },
  {
   "cell_type": "code",
   "execution_count": 14,
   "metadata": {},
   "outputs": [],
   "source": [
    "#预测函数\n",
    "def inference(x):\n",
    "\tweights = get_weights()\n",
    "\tbias = get_bias()\n",
    "\tpred = tf.add(tf.multiply(x,weights),bias)\n",
    "\treturn pred"
   ]
  },
  {
   "cell_type": "code",
   "execution_count": 15,
   "metadata": {},
   "outputs": [],
   "source": [
    "#定义损失函数\n",
    "def loss(pred,label):\n",
    "\treturn tf.losses.mean_squared_error(pred,label)"
   ]
  },
  {
   "cell_type": "code",
   "execution_count": 17,
   "metadata": {},
   "outputs": [
    {
     "name": "stderr",
     "output_type": "stream",
     "text": [
      "WARNING: Logging before flag parsing goes to stderr.\n",
      "W1111 15:54:32.720283 29388 deprecation.py:323] From D:\\Anaconda3\\lib\\site-packages\\tensorflow\\python\\ops\\losses\\losses_impl.py:121: add_dispatch_support.<locals>.wrapper (from tensorflow.python.ops.array_ops) is deprecated and will be removed in a future version.\n",
      "Instructions for updating:\n",
      "Use tf.where in 2.0, which has the same broadcast rule as np.where\n"
     ]
    },
    {
     "name": "stdout",
     "output_type": "stream",
     "text": [
      "10 epoch cost is 0.020061\n",
      "20 epoch cost is 0.015531\n",
      "30 epoch cost is 0.011732\n",
      "40 epoch cost is 0.008591\n",
      "50 epoch cost is 0.006039\n",
      "60 epoch cost is 0.004015\n",
      "70 epoch cost is 0.002461\n",
      "80 epoch cost is 0.001327\n",
      "90 epoch cost is 0.000566\n",
      "100 epoch cost is 0.000137\n"
     ]
    },
    {
     "data": {
      "image/png": "[encoded data removed]",
      "text/plain": [
       "<Figure size 432x288 with 1 Axes>"
      ]
     },
     "metadata": {},
     "output_type": "display_data"
    }
   ],
   "source": [
    "#训练\n",
    "\n",
    "X,Y = get_data()\n",
    "train_x,label = get_placeholder()\n",
    "pred = inference(train_x)\n",
    "loss = loss(pred,label)\n",
    "#参数初始化\n",
    "init = tf.global_variables_initializer()\n",
    "optimizer=tf.train.GradientDescentOptimizer(0.001).minimize(loss)\n",
    "\n",
    "with tf.Session() as sess:\n",
    "\tsess.run(init)\n",
    "\tfor epoch in range(100):\n",
    "\t\tfor x,y in zip(X,Y):\n",
    "\t\t\tsess.run(optimizer,feed_dict={train_x:x,label:y})\n",
    "\t\tif (epoch+1)%10==0:\n",
    "\t\t\tcost = sess.run(loss,feed_dict={train_x:x,label:y})\n",
    "\t\t\tprint(\"%d epoch cost is %f\"%(epoch+1,cost))\n",
    "\n",
    "\tls = []\n",
    "\tfor x,y in zip(X,Y):\n",
    "\t\tls.append(sess.run(pred,feed_dict={train_x:x}))\n",
    "\tplt.scatter(X,Y,c='r')\n",
    "\tplt.plot(X,ls)\n",
    "\tplt.show()"
   ]
  },
  {
   "cell_type": "code",
   "execution_count": null,
   "metadata": {},
   "outputs": [],
   "source": []
  }
 ],
 "metadata": {
  "kernelspec": {
   "display_name": "Python 3",
   "language": "python",
   "name": "python3"
  },
  "language_info": {
   "codemirror_mode": {
    "name": "ipython",
    "version": 3
   },
   "file_extension": ".py",
   "mimetype": "text/x-python",
   "name": "python",
   "nbconvert_exporter": "python",
   "pygments_lexer": "ipython3",
   "version": "3.6.8"
  }
 },
 "nbformat": 4,
 "nbformat_minor": 2
}

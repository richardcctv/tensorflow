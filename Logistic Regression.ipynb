{
 "cells": [
  {
   "cell_type": "code",
   "execution_count": 2,
   "metadata": {},
   "outputs": [],
   "source": [
    "import tensorflow as tf\n",
    "from tensorflow.examples.tutorials.mnist import input_data"
   ]
  },
  {
   "cell_type": "code",
   "execution_count": 4,
   "metadata": {},
   "outputs": [
    {
     "name": "stdout",
     "output_type": "stream",
     "text": [
      "Extracting MNIST_data/train-images-idx3-ubyte.gz\n",
      "Extracting MNIST_data/train-labels-idx1-ubyte.gz\n",
      "Extracting MNIST_data/t10k-images-idx3-ubyte.gz\n",
      "Extracting MNIST_data/t10k-labels-idx1-ubyte.gz\n"
     ]
    }
   ],
   "source": [
    "mnist = input_data.read_data_sets(\"MNIST_data/\", one_hot=True)"
   ]
  },
  {
   "cell_type": "code",
   "execution_count": 5,
   "metadata": {},
   "outputs": [],
   "source": [
    "def get_placeholder():\n",
    "    data = tf.placeholder(dtype=tf.float32,shape=[None,784])\n",
    "    label = tf.placeholder(dtype=tf.float32,shape=[None,10])\n",
    "    return data,label"
   ]
  },
  {
   "cell_type": "code",
   "execution_count": 6,
   "metadata": {},
   "outputs": [],
   "source": [
    "def get_weight():\n",
    "    return tf.Variable(tf.truncated_normal(shape=[784,10],stddev=0.1))\n",
    "\n",
    "def get_bias():\n",
    "    return tf.Variable(tf.zeros(shape=[10]))"
   ]
  },
  {
   "cell_type": "code",
   "execution_count": 7,
   "metadata": {},
   "outputs": [],
   "source": [
    "def inference(X):\n",
    "    weights = get_weight()\n",
    "    bias = get_bias()\n",
    "    liner = tf.matmul(X,weights)+bias\n",
    "    logits = tf.nn.softmax(liner)\n",
    "    return logits"
   ]
  },
  {
   "cell_type": "code",
   "execution_count": 8,
   "metadata": {},
   "outputs": [],
   "source": [
    "def loss(logits,label):\n",
    "    return tf.reduce_mean(-tf.reduce_sum(label*tf.log(logits),reduction_indices=1))\n",
    "    "
   ]
  },
  {
   "cell_type": "code",
   "execution_count": 9,
   "metadata": {},
   "outputs": [
    {
     "name": "stdout",
     "output_type": "stream",
     "text": [
      "epoch 5 cost is 0.282946\n",
      "epoch 10 cost is 0.269182\n",
      "epoch 15 cost is 0.262589\n",
      "epoch 20 cost is 0.257122\n",
      "epoch 25 cost is 0.253861\n",
      "epoch 30 cost is 0.250655\n",
      "epoch 35 cost is 0.249854\n",
      "epoch 40 cost is 0.247265\n",
      "epoch 45 cost is 0.246271\n",
      "epoch 50 cost is 0.244121\n",
      "epoch 55 cost is 0.242973\n",
      "epoch 60 cost is 0.242714\n",
      "epoch 65 cost is 0.241616\n",
      "epoch 70 cost is 0.240830\n",
      "epoch 75 cost is 0.239437\n",
      "epoch 80 cost is 0.239266\n",
      "epoch 85 cost is 0.239728\n",
      "epoch 90 cost is 0.238119\n",
      "epoch 95 cost is 0.237829\n",
      "epoch 100 cost is 0.236645\n"
     ]
    }
   ],
   "source": [
    "batch_size = 100\n",
    "epoch_size = 100\n",
    "\n",
    "\n",
    "\n",
    "train_x,train_y = get_placeholder()\n",
    "logits = inference(train_x)\n",
    "cost = loss(logits,train_y)\n",
    "\n",
    "optimizer = tf.train.GradientDescentOptimizer(0.5).minimize(cost)\n",
    "init = tf.global_variables_initializer()\n",
    "\n",
    "with tf.Session() as sess:\n",
    "    sess.run(init)\n",
    "    batch_total = int(mnist.train.num_examples/batch_size)\n",
    "    \n",
    "    for epoch in range(epoch_size):\n",
    "            avg_cost = 0\n",
    "            for batch in range(batch_total):\n",
    "                X,Y = mnist.train.next_batch(batch_size=batch_size)\n",
    "                _,c = sess.run([optimizer,cost],feed_dict={train_x:X,train_y:Y})\n",
    "                avg_cost += c/batch_total\n",
    "            if (epoch+1)%5==0:    \n",
    "                print(\"epoch %d cost is %f\"%(epoch+1,avg_cost))\n",
    "        "
   ]
  },
  {
   "cell_type": "code",
   "execution_count": null,
   "metadata": {},
   "outputs": [],
   "source": []
  }
 ],
 "metadata": {
  "kernelspec": {
   "display_name": "Python 3",
   "language": "python",
   "name": "python3"
  },
  "language_info": {
   "codemirror_mode": {
    "name": "ipython",
    "version": 3
   },
   "file_extension": ".py",
   "mimetype": "text/x-python",
   "name": "python",
   "nbconvert_exporter": "python",
   "pygments_lexer": "ipython3",
   "version": "3.6.8"
  }
 },
 "nbformat": 4,
 "nbformat_minor": 2
}
